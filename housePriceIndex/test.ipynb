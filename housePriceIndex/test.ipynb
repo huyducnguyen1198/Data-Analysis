{
 "cells": [
  {
   "cell_type": "code",
   "execution_count": 12,
   "metadata": {},
   "outputs": [],
   "source": [
    "import pandas as pd\n",
    "\n",
    "pd.set_option('display.max_columns', 250)\n",
    "pd.set_option('display.max_rows', None)\n",
    "pd.set_option('display.width', 500)\n",
    "\n"
   ]
  },
  {
   "cell_type": "code",
   "execution_count": 13,
   "metadata": {},
   "outputs": [
    {
     "name": "stdout",
     "output_type": "stream",
     "text": [
      "   Year LocationAbbr    LocationDesc GeographicLevel DataSource                    Class                    Topic  Data_Value         Data_Value_Unit                                    Data_Value_Type Data_Value_Footnote_Symbol Data_Value_Footnote StratificationCategory1 Stratification1 StratificationCategory2 Stratification2 TopicID  LocationID      Y_lat       X_lon\n",
      "0  2019           AK  Aleutians East          County       NVSS  Cardiovascular Diseases  Heart Disease Mortality       182.4  per 100,000 population  Age-adjusted, Spatially Smoothed, 3-year Avera...                        NaN                 NaN                  Gender         Overall          Race/Ethnicity         Overall      T2        2013  55.442393 -161.959930\n",
      "1  2019           AK  Aleutians West          County       NVSS  Cardiovascular Diseases  Heart Disease Mortality       172.6  per 100,000 population  Age-adjusted, Spatially Smoothed, 3-year Avera...                        NaN                 NaN                  Gender         Overall          Race/Ethnicity         Overall      T2        2016  53.648343 -166.917533\n",
      "2  2019           AK       Anchorage          County       NVSS  Cardiovascular Diseases  Heart Disease Mortality       255.6  per 100,000 population  Age-adjusted, Spatially Smoothed, 3-year Avera...                        NaN                 NaN                  Gender         Overall          Race/Ethnicity         Overall      T2        2020  61.159145 -149.104559\n",
      "3  2019           AK          Bethel          County       NVSS  Cardiovascular Diseases  Heart Disease Mortality       343.4  per 100,000 population  Age-adjusted, Spatially Smoothed, 3-year Avera...                        NaN                 NaN                  Gender         Overall          Race/Ethnicity         Overall      T2        2050  60.923648 -159.753262\n",
      "4  2019           AK     Bristol Bay          County       NVSS  Cardiovascular Diseases  Heart Disease Mortality         NaN  per 100,000 population  Age-adjusted, Spatially Smoothed, 3-year Avera...                          ~   Insufficient Data                  Gender         Overall          Race/Ethnicity         Overall      T2        2060  58.753496 -156.694662\n"
     ]
    }
   ],
   "source": [
    "df = pd.read_csv('heartDiseases.csv')\n",
    "print(df.head())"
   ]
  },
  {
   "cell_type": "code",
   "execution_count": 14,
   "metadata": {},
   "outputs": [
    {
     "data": {
      "text/plain": [
       "Index(['Year', 'LocationAbbr', 'LocationDesc', 'GeographicLevel', 'DataSource', 'Class', 'Topic', 'Data_Value', 'Data_Value_Unit', 'Data_Value_Type', 'Data_Value_Footnote_Symbol', 'Data_Value_Footnote', 'StratificationCategory1', 'Stratification1', 'StratificationCategory2', 'Stratification2', 'TopicID', 'LocationID', 'Y_lat', 'X_lon'], dtype='object')"
      ]
     },
     "execution_count": 14,
     "metadata": {},
     "output_type": "execute_result"
    }
   ],
   "source": [
    "df.columns"
   ]
  },
  {
   "cell_type": "code",
   "execution_count": null,
   "metadata": {},
   "outputs": [],
   "source": []
  }
 ],
 "metadata": {
  "kernelspec": {
   "display_name": "base",
   "language": "python",
   "name": "python3"
  },
  "language_info": {
   "codemirror_mode": {
    "name": "ipython",
    "version": 3
   },
   "file_extension": ".py",
   "mimetype": "text/x-python",
   "name": "python",
   "nbconvert_exporter": "python",
   "pygments_lexer": "ipython3",
   "version": "3.11.5"
  }
 },
 "nbformat": 4,
 "nbformat_minor": 2
}
